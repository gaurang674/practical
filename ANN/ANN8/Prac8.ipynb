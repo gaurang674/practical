{
 "cells": [
  {
   "cell_type": "code",
   "execution_count": 1,
   "id": "33f09000-0d0b-4a94-8829-6884ce7fd0f2",
   "metadata": {},
   "outputs": [
    {
     "name": "stdout",
     "output_type": "stream",
     "text": [
      "Predictions:\n",
      "Input: [1 0 0], Predicted Category: 0\n",
      "Input: [0 1 0], Predicted Category: 1\n",
      "Input: [1 1 0], Predicted Category: 2\n",
      "Input: [0 0 1], Predicted Category: 3\n"
     ]
    }
   ],
   "source": [
    "import numpy as np\n",
    "\n",
    "class ART1:\n",
    "    def __init__(self, input_size, num_categories, vigilance):\n",
    "        # Initialize the parameters: input size, number of categories, vigilance parameter\n",
    "        self.input_size = input_size\n",
    "        self.num_categories = num_categories\n",
    "        self.vigilance = vigilance\n",
    "\n",
    "        # Initialize weight matrix with ones\n",
    "        self.weights = np.ones((num_categories, input_size))\n",
    "\n",
    "    def complement_code(self, input_vector):\n",
    "        # Generate the complement-coded input by concatenating the input with its complement\n",
    "        return np.concatenate([input_vector, 1 - input_vector])\n",
    "\n",
    "    def match_category(self, input_vector):\n",
    "        # Compute matching scores for each category\n",
    "        scores = np.dot(self.weights, input_vector)  # Dot product of weights and input\n",
    "        norms = np.sum(input_vector)  # Sum of input vector (norm of input)\n",
    "        return scores / norms  # Normalized matching score\n",
    "\n",
    "    def train(self, inputs):\n",
    "        # Train the network with given input vectors\n",
    "        for input_vector in inputs:\n",
    "            input_vector = self.complement_code(input_vector)  # Apply complement coding\n",
    "            while True:\n",
    "                match_scores = self.match_category(input_vector)  # Calculate match scores\n",
    "                chosen_category = np.argmax(match_scores)  # Choose category with max score\n",
    "\n",
    "                # Vigilance test to check if the category matches sufficiently\n",
    "                if np.sum(np.minimum(input_vector, self.weights[chosen_category])) / np.sum(input_vector) >= self.vigilance:\n",
    "                    # Update weights based on the minimum of the input vector and the selected category's weights\n",
    "                    self.weights[chosen_category] = np.minimum(input_vector, self.weights[chosen_category])\n",
    "                    break  # Exit the loop after successful learning\n",
    "                else:\n",
    "                    # Reset the category by setting its weight to zero if vigilance test fails\n",
    "                    self.weights[chosen_category] = np.zeros_like(self.weights[chosen_category])\n",
    "\n",
    "    def predict(self, input_vector):\n",
    "        # Make a prediction for a given input vector\n",
    "        input_vector = self.complement_code(input_vector)  # Apply complement coding\n",
    "        match_scores = self.match_category(input_vector)  # Calculate match scores\n",
    "        return np.argmax(match_scores)  # Return the category with the highest match score\n",
    "\n",
    "# Example usage\n",
    "inputs = np.array([[1, 0, 0], [0, 1, 0], [1, 1, 0], [0, 0, 1]])  # Sample input vectors\n",
    "art = ART1(input_size=6, num_categories=4, vigilance=0.7)  # Initialize ART1 network with vigilance of 0.7\n",
    "art.train(inputs)  # Train the network on the input data\n",
    "\n",
    "# Print the predictions for each input\n",
    "print(\"Predictions:\")\n",
    "for input_vector in inputs:\n",
    "    print(f\"Input: {input_vector}, Predicted Category: {art.predict(input_vector)}\")"
   ]
  }
 ],
 "metadata": {
  "kernelspec": {
   "display_name": "Python 3 (ipykernel)",
   "language": "python",
   "name": "python3"
  },
  "language_info": {
   "codemirror_mode": {
    "name": "ipython",
    "version": 3
   },
   "file_extension": ".py",
   "mimetype": "text/x-python",
   "name": "python",
   "nbconvert_exporter": "python",
   "pygments_lexer": "ipython3",
   "version": "3.12.7"
  }
 },
 "nbformat": 4,
 "nbformat_minor": 5
}
