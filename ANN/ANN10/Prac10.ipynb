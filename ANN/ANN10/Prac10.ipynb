{
 "cells": [
  {
   "cell_type": "code",
   "execution_count": 11,
   "id": "6c96bbfe-5abe-4fdf-8e58-79e1dde86d6c",
   "metadata": {},
   "outputs": [],
   "source": [
    "import tensorflow as tf\n",
    "import numpy as np\n",
    "import cv2\n",
    "\n",
    "# Load the pre-trained model\n",
    "model = tf.saved_model.load('D:\\\\faster_rcnn_resnet50_v1_640x640_coco17_tpu-8\\\\saved_model')\n",
    "\n",
    "# Load the label map\n",
    "label_map = {1: 'person', 3: 'car', 18: 'dog'}  # Replace with your label map\n",
    "\n",
    "# Load and preprocess the input image\n",
    "image = cv2.imread('D:\\\\image.jpg')\n",
    "image = cv2.cvtColor(image, cv2.COLOR_BGR2RGB)\n",
    "\n",
    "# Convert to uint8 (Fix for TypeError)\n",
    "image = tf.convert_to_tensor(image, dtype=tf.uint8)\n",
    "\n",
    "# Expand dimensions for batch processing\n",
    "image = tf.expand_dims(image, axis=0)\n",
    "\n",
    "# Run object detection\n",
    "detections = model(image)\n",
    "\n",
    "# Extract results\n",
    "boxes = detections['detection_boxes'][0].numpy()\n",
    "scores = detections['detection_scores'][0].numpy()\n",
    "classes = detections['detection_classes'][0].numpy().astype(int)\n",
    "\n",
    "# Set confidence threshold\n",
    "threshold = 0.5  \n",
    "filtered_boxes = boxes[scores >= threshold]\n",
    "filtered_classes = classes[scores >= threshold]\n",
    "\n",
    "# Convert tensor back to numpy for OpenCV drawing\n",
    "image_np = image.numpy()[0]\n",
    "\n",
    "# Draw bounding boxes and labels\n",
    "for box, cls in zip(filtered_boxes, filtered_classes):\n",
    "    ymin, xmin, ymax, xmax = box\n",
    "    h, w, _ = image_np.shape\n",
    "    ymin, xmin, ymax, xmax = int(ymin * h), int(xmin * w), int(ymax * h), int(xmax * w)\n",
    "\n",
    "    label = label_map.get(cls, 'Unknown')\n",
    "    cv2.rectangle(image_np, (xmin, ymin), (xmax, ymax), (0, 255, 0), 2)\n",
    "    cv2.putText(image_np, label, (xmin, ymin - 10), cv2.FONT_HERSHEY_SIMPLEX, 0.9, (0, 255, 0), 2)\n",
    "\n",
    "# Display the image with detections\n",
    "cv2.imshow('Object Detection', image_np)\n",
    "cv2.waitKey(0)\n",
    "cv2.destroyAllWindows()\n"
   ]
  },
  {
   "cell_type": "code",
   "execution_count": null,
   "id": "2a1cd713-c514-4d07-818a-ede5cc1cc499",
   "metadata": {},
   "outputs": [],
   "source": []
  }
 ],
 "metadata": {
  "kernelspec": {
   "display_name": "Python 3 (ipykernel)",
   "language": "python",
   "name": "python3"
  },
  "language_info": {
   "codemirror_mode": {
    "name": "ipython",
    "version": 3
   },
   "file_extension": ".py",
   "mimetype": "text/x-python",
   "name": "python",
   "nbconvert_exporter": "python",
   "pygments_lexer": "ipython3",
   "version": "3.12.7"
  }
 },
 "nbformat": 4,
 "nbformat_minor": 5
}
