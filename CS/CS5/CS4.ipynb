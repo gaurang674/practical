{
 "cells": [
  {
   "cell_type": "code",
   "execution_count": 5,
   "id": "018cfd17-fd97-490f-9f88-a69f13229fc1",
   "metadata": {},
   "outputs": [
    {
     "name": "stdout",
     "output_type": "stream",
     "text": [
      "Original message: b'Hello, world!'\n",
      "Decrypted message: b'Hello, world!'\n"
     ]
    }
   ],
   "source": [
    "from Crypto.PublicKey import ECC\n",
    "from Crypto.Util.number import bytes_to_long, long_to_bytes\n",
    "\n",
    "# Generate a private key\n",
    "private_key = ECC.generate(curve='P-256')\n",
    "public_key = private_key.public_key()\n",
    "\n",
    "# Encrypt a message\n",
    "message = b'Hello, world!'\n",
    "plaintext = bytes_to_long(message)\n",
    "\n",
    "# Generate a random k\n",
    "k = ECC.generate(curve='P-256').d\n",
    "\n",
    "# Compute C1 = k * G (base point of the curve)\n",
    "C1 = k * ECC._curves[\"P-256\"].G  # Use base point G instead of private key's pointQ\n",
    "\n",
    "# Compute the shared secret using the recipient's public key\n",
    "shared_secret = int((public_key.pointQ * k).x)  # Ensure it’s an integer\n",
    "\n",
    "# Encrypt message\n",
    "C2 = plaintext ^ shared_secret  # XOR with shared secret\n",
    "\n",
    "# Decryption\n",
    "decrypted_secret = int((C1 * private_key.d).x)  # Correct shared secret calculation\n",
    "decrypted_plaintext = C2 ^ decrypted_secret  # Perform XOR\n",
    "\n",
    "# Convert back to bytes\n",
    "decrypted_message = long_to_bytes(decrypted_plaintext)\n",
    "\n",
    "print('Original message:', message)\n",
    "print('Decrypted message:', decrypted_message)\n"
   ]
  }
 ],
 "metadata": {
  "kernelspec": {
   "display_name": "Python 3 (ipykernel)",
   "language": "python",
   "name": "python3"
  },
  "language_info": {
   "codemirror_mode": {
    "name": "ipython",
    "version": 3
   },
   "file_extension": ".py",
   "mimetype": "text/x-python",
   "name": "python",
   "nbconvert_exporter": "python",
   "pygments_lexer": "ipython3",
   "version": "3.12.7"
  }
 },
 "nbformat": 4,
 "nbformat_minor": 5
}
