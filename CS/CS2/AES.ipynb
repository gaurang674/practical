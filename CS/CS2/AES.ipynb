{
 "cells": [
  {
   "cell_type": "code",
   "execution_count": 24,
   "id": "6153b026-25f2-4ec3-ab06-842971beabcd",
   "metadata": {},
   "outputs": [
    {
     "name": "stdout",
     "output_type": "stream",
     "text": [
      "Original Message: b'Secret Message!!'\n",
      "Encrypted: f50f8a1e076661db929d3f78c1527c20ee3bd8907072a1c68f5da135739a01e2\n",
      "Decrypted: Secret Message!!\n"
     ]
    }
   ],
   "source": [
    "from Crypto.Cipher import AES\n",
    "from Crypto.Random import get_random_bytes\n",
    "from Crypto.Util.Padding import pad, unpad\n",
    "\n",
    "# Key and data\n",
    "key = get_random_bytes(16)  # AES-128 => 16 bytes key\n",
    "data = b\"Secret Message!!\"  # Must be bytes\n",
    "print(\"Original Message:\", data)\n",
    "\n",
    "# Encryption\n",
    "cipher = AES.new(key, AES.MODE_CBC)\n",
    "ct_bytes = cipher.encrypt(pad(data, AES.block_size))\n",
    "iv = cipher.iv  # Initialization Vector\n",
    "print(f\"Encrypted: {ct_bytes.hex()}\")\n",
    "\n",
    "# Decryption\n",
    "cipher_dec = AES.new(key, AES.MODE_CBC, iv)\n",
    "pt = unpad(cipher_dec.decrypt(ct_bytes), AES.block_size)\n",
    "print(f\"Decrypted: {pt.decode()}\")"
   ]
  }
 ],
 "metadata": {
  "kernelspec": {
   "display_name": "Python 3 (ipykernel)",
   "language": "python",
   "name": "python3"
  },
  "language_info": {
   "codemirror_mode": {
    "name": "ipython",
    "version": 3
   },
   "file_extension": ".py",
   "mimetype": "text/x-python",
   "name": "python",
   "nbconvert_exporter": "python",
   "pygments_lexer": "ipython3",
   "version": "3.12.7"
  }
 },
 "nbformat": 4,
 "nbformat_minor": 5
}
