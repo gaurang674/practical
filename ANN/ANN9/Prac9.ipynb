{
 "cells": [
  {
   "cell_type": "code",
   "execution_count": 4,
   "id": "8914111e-c739-4c24-93b1-7fbb9babd479",
   "metadata": {},
   "outputs": [
    {
     "name": "stdout",
     "output_type": "stream",
     "text": [
      "Original Pattern (noisy): [ 1 -1  1 -1 -1 -1]\n",
      "Recalled Pattern:  [ 1 -1  1 -1  1 -1]\n"
     ]
    }
   ],
   "source": [
    "import numpy as np\n",
    "\n",
    "class HopfieldNetwork:\n",
    "    def __init__(self, size):\n",
    "        self.size = size\n",
    "        self.weights = np.zeros((size, size))\n",
    "\n",
    "    def train(self, patterns):\n",
    "        for p in patterns:\n",
    "            p = p.reshape(self.size, 1)\n",
    "            self.weights += np.dot(p, p.T)\n",
    "        np.fill_diagonal(self.weights, 0)  # No self-connection\n",
    "\n",
    "    def recall(self, pattern, steps=5):\n",
    "        pattern = pattern.copy()\n",
    "        for _ in range(steps):\n",
    "            for i in range(self.size):\n",
    "                raw = np.dot(self.weights[i], pattern)\n",
    "                pattern[i] = 1 if raw >= 0 else -1\n",
    "        return pattern\n",
    "\n",
    "# Define 4 binary patterns (use -1 and 1 instead of 0 and 1)\n",
    "patterns = np.array([\n",
    "    [1, -1, 1, -1, 1, -1],\n",
    "    [-1, 1, -1, 1, -1, 1],\n",
    "    [1, 1, -1, -1, 1, 1],\n",
    "    [-1, -1, 1, 1, -1, -1]\n",
    "])\n",
    "\n",
    "# Create and train Hopfield Network\n",
    "hopfield_net = HopfieldNetwork(size=6)\n",
    "hopfield_net.train(patterns)\n",
    "\n",
    "# Test recall from a noisy version of the first pattern\n",
    "test_pattern = np.array([1, -1, 1, -1, -1, -1])  # Slightly different\n",
    "\n",
    "recalled = hopfield_net.recall(test_pattern)\n",
    "\n",
    "# Output\n",
    "print(\"Original Pattern (noisy):\", test_pattern)\n",
    "print(\"Recalled Pattern: \", recalled)"
   ]
  },
  {
   "cell_type": "code",
   "execution_count": null,
   "id": "46dfa323-761d-49e3-8d96-b1584c104e65",
   "metadata": {},
   "outputs": [],
   "source": []
  }
 ],
 "metadata": {
  "kernelspec": {
   "display_name": "Python 3 (ipykernel)",
   "language": "python",
   "name": "python3"
  },
  "language_info": {
   "codemirror_mode": {
    "name": "ipython",
    "version": 3
   },
   "file_extension": ".py",
   "mimetype": "text/x-python",
   "name": "python",
   "nbconvert_exporter": "python",
   "pygments_lexer": "ipython3",
   "version": "3.12.7"
  }
 },
 "nbformat": 4,
 "nbformat_minor": 5
}
