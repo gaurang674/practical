{
 "cells": [
  {
   "cell_type": "code",
   "execution_count": 2,
   "id": "03c6d46f-b6e8-4c8f-ae32-2af7c0257995",
   "metadata": {},
   "outputs": [
    {
     "name": "stdin",
     "output_type": "stream",
     "text": [
      "Enter the value for p:  19\n",
      "Enter the value for q:  17\n"
     ]
    },
    {
     "name": "stdout",
     "output_type": "stream",
     "text": [
      "n = 323\n",
      "φ(n) = 288\n"
     ]
    },
    {
     "name": "stdin",
     "output_type": "stream",
     "text": [
      "Enter the value for e:  7\n"
     ]
    },
    {
     "name": "stdout",
     "output_type": "stream",
     "text": [
      "e = 7\n",
      "d = 247\n",
      "Public Key: (7, 323)\n",
      "Private Key: (247, 323)\n"
     ]
    },
    {
     "name": "stdin",
     "output_type": "stream",
     "text": [
      "Enter the message:  44\n"
     ]
    },
    {
     "name": "stdout",
     "output_type": "stream",
     "text": [
      "Original message: 44\n",
      "Encrypted message: 294\n",
      "Decrypted message: 44\n"
     ]
    }
   ],
   "source": [
    "import math\n",
    "\n",
    "# Step 1\n",
    "p = int(input(\"Enter the value for p: \"))\n",
    "q = int(input(\"Enter the value for q: \"))\n",
    "\n",
    "# Step 2: Compute n\n",
    "n = p * q\n",
    "print(\"n =\", n)\n",
    "\n",
    "# Step 3: Compute φ(n)\n",
    "phi = (p - 1) * (q - 1)\n",
    "print(\"φ(n) =\", phi)\n",
    "\n",
    "# Step 4: Choose e (must be coprime with φ(n))\n",
    "e = int(input(\"Enter the value for e: \"))\n",
    "\n",
    "while math.gcd(e, phi) != 1:\n",
    "    e += 1\n",
    "\n",
    "print(\"e =\", e)\n",
    "\n",
    "# Step 5: Compute d (Modular Inverse of e mod φ(n))\n",
    "d = pow(e, -1, phi)\n",
    "print(\"d =\", d)\n",
    "\n",
    "print(f\"Public Key: ({e}, {n})\")\n",
    "print(f\"Private Key: ({d}, {n})\")\n",
    "\n",
    "# Step 6: Encryption\n",
    "msg = int(input(\"Enter the message: \"))\n",
    "print(f\"Original message: {msg}\")\n",
    "\n",
    "C = pow(msg, e, n)\n",
    "print(f\"Encrypted message: {C}\")\n",
    "\n",
    "# Step 7: Decryption\n",
    "M = pow(C, d, n)\n",
    "print(f\"Decrypted message: {M}\")\n"
   ]
  },
  {
   "cell_type": "code",
   "execution_count": null,
   "id": "45becee5-58a8-489e-80c3-d47cdab430a5",
   "metadata": {},
   "outputs": [],
   "source": []
  }
 ],
 "metadata": {
  "kernelspec": {
   "display_name": "Python 3 (ipykernel)",
   "language": "python",
   "name": "python3"
  },
  "language_info": {
   "codemirror_mode": {
    "name": "ipython",
    "version": 3
   },
   "file_extension": ".py",
   "mimetype": "text/x-python",
   "name": "python",
   "nbconvert_exporter": "python",
   "pygments_lexer": "ipython3",
   "version": "3.12.7"
  }
 },
 "nbformat": 4,
 "nbformat_minor": 5
}
