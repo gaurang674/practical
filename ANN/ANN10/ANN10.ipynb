{
 "cells": [
  {
   "cell_type": "code",
   "execution_count": 6,
   "id": "2d431138-bf90-44cd-bd32-080cd9425cd2",
   "metadata": {},
   "outputs": [
    {
     "name": "stdout",
     "output_type": "stream",
     "text": [
      "Downloading https://github.com/ultralytics/assets/releases/download/v8.3.0/yolov8s.pt to 'yolov8s.pt'...\n"
     ]
    },
    {
     "name": "stderr",
     "output_type": "stream",
     "text": [
      "100%|██████████| 21.5M/21.5M [00:06<00:00, 3.57MB/s]\n"
     ]
    },
    {
     "name": "stdout",
     "output_type": "stream",
     "text": [
      "\n",
      "image 1/1 D:\\Cars.jpg: 448x640 8 cars, 140.4ms\n",
      "Speed: 4.0ms preprocess, 140.4ms inference, 4.7ms postprocess per image at shape (1, 3, 448, 640)\n"
     ]
    }
   ],
   "source": [
    "from ultralytics import YOLO\n",
    "import numpy as np\n",
    "from PIL import Image, ImageDraw, ImageFont\n",
    "import matplotlib.pyplot as plt\n",
    "import os\n",
    "\n",
    "# Load pre-trained YOLO model\n",
    "model = YOLO('yolov8s.pt')  # using ultralytics YOLOv8 Small model\n",
    "\n",
    "# Load and preprocess image\n",
    "image_path = \"D:/Cars.jpg\"  # Change path accordingly\n",
    "if not os.path.exists(image_path):\n",
    "    print(f\"Error: Image '{image_path}' not found.\")\n",
    "    exit()\n",
    "\n",
    "# Inference\n",
    "results = model(image_path)\n",
    "\n",
    "# Show default result (optional)\n",
    "results[0].show()\n",
    "\n",
    "# Get detections\n",
    "detections = results[0].boxes.data.cpu().numpy()  # [x1, y1, x2, y2, score, class_id]\n",
    "class_names = results[0].names\n",
    "\n",
    "if len(detections) == 0:\n",
    "    print(\"No objects detected.\")\n",
    "    exit()\n",
    "\n",
    "# Open image for drawing\n",
    "image = Image.open(image_path).convert(\"RGB\")\n",
    "draw = ImageDraw.Draw(image)\n",
    "font = ImageFont.load_default()\n",
    "\n",
    "# Draw bounding boxes and labels\n",
    "for det in detections:\n",
    "    x1, y1, x2, y2, score, class_id = det\n",
    "    x1, y1, x2, y2 = int(x1), int(y1), int(x2), int(y2)\n",
    "    label = f\"{class_names[int(class_id)]} ({score:.2f})\"\n",
    "    draw.rectangle([x1, y1, x2, y2], outline=\"green\", width=2)\n",
    "    draw.text((x1, max(y1 - 10, 0)), label, fill=\"green\", font=font)\n",
    "\n",
    "# Display image\n",
    "plt.imshow(image)\n",
    "plt.axis(\"off\")\n",
    "plt.show()\n"
   ]
  },
  {
   "cell_type": "code",
   "execution_count": null,
   "id": "a74e1754-bd00-4bef-ae44-f793e183a977",
   "metadata": {},
   "outputs": [],
   "source": []
  }
 ],
 "metadata": {
  "kernelspec": {
   "display_name": "Python 3 (ipykernel)",
   "language": "python",
   "name": "python3"
  },
  "language_info": {
   "codemirror_mode": {
    "name": "ipython",
    "version": 3
   },
   "file_extension": ".py",
   "mimetype": "text/x-python",
   "name": "python",
   "nbconvert_exporter": "python",
   "pygments_lexer": "ipython3",
   "version": "3.12.7"
  }
 },
 "nbformat": 4,
 "nbformat_minor": 5
}
