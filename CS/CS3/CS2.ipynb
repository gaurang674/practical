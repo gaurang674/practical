{
 "cells": [
  {
   "cell_type": "code",
   "execution_count": 1,
   "id": "e77c07a9-c886-4627-86c5-eaccb1e20e58",
   "metadata": {},
   "outputs": [
    {
     "name": "stdin",
     "output_type": "stream",
     "text": [
      "Enter Prime Number:  17\n",
      "Enter Primitive root:  13\n"
     ]
    },
    {
     "name": "stdout",
     "output_type": "stream",
     "text": [
      "\n",
      "Prime (p): 17\n",
      "Primitive Root (g): 13\n",
      "\n",
      "Alice's Private Key: 10\n",
      "Bob's Private Key: 3\n",
      "\n",
      "Alice's Public Key: 16\n",
      "Bob's Public Key: 4\n",
      "\n",
      "Shared Secret Key: 16\n"
     ]
    }
   ],
   "source": [
    "import random\n",
    "from sympy import isprime\n",
    "\n",
    "p = int(input(\"Enter Prime Number: \"))\n",
    "g = int(input(\"Enter Primitive root: \"))\n",
    "\n",
    "# Step 2: Choose private keys\n",
    "private_key_A = random.randint(2, p)  # Alice's private key\n",
    "private_key_B = random.randint(2, p)  # Bob's private key\n",
    "\n",
    "# Step 3: Compute public keys\n",
    "public_key_A = pow(g, private_key_A, p)  # A = g^a mod p\n",
    "public_key_B = pow(g, private_key_B, p)  # B = g^b mod p\n",
    "\n",
    "# Step 4: Compute secret keys\n",
    "secret_A = pow(public_key_B, private_key_A, p)  # S = B^a mod p\n",
    "secret_B = pow(public_key_A, private_key_B, p)  # S = A^b mod p\n",
    "\n",
    "assert secret_A==secret_B\n",
    "\n",
    "# Output results\n",
    "print(f\"\\nPrime (p): {p}\")\n",
    "print(f\"Primitive Root (g): {g}\\n\")\n",
    "print(f\"Alice's Private Key: {private_key_A}\")\n",
    "print(f\"Bob's Private Key: {private_key_B}\\n\")\n",
    "print(f\"Alice's Public Key: {public_key_A}\")\n",
    "print(f\"Bob's Public Key: {public_key_B}\\n\")\n",
    "print(f\"Shared Secret Key: {secret_A}\")"
   ]
  },
  {
   "cell_type": "code",
   "execution_count": null,
   "id": "cbdfcbd5-77bd-41ff-a913-53bb9b16d16e",
   "metadata": {},
   "outputs": [],
   "source": []
  }
 ],
 "metadata": {
  "kernelspec": {
   "display_name": "Python 3 (ipykernel)",
   "language": "python",
   "name": "python3"
  },
  "language_info": {
   "codemirror_mode": {
    "name": "ipython",
    "version": 3
   },
   "file_extension": ".py",
   "mimetype": "text/x-python",
   "name": "python",
   "nbconvert_exporter": "python",
   "pygments_lexer": "ipython3",
   "version": "3.12.7"
  }
 },
 "nbformat": 4,
 "nbformat_minor": 5
}
